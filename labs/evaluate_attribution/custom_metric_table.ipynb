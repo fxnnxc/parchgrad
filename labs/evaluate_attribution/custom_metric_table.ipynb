{
 "cells": [
  {
   "cell_type": "code",
   "execution_count": 1,
   "metadata": {},
   "outputs": [],
   "source": [
    "from custom_filter import * "
   ]
  },
  {
   "cell_type": "code",
   "execution_count": 2,
   "metadata": {},
   "outputs": [
    {
     "name": "stdout",
     "output_type": "stream",
     "text": [
      "{'encoder': 'resnet18', 'data_path': '/data/ImageNet1k', 'bbox_path': '/data/ILSVRC2012_bbox_val', 'input_attrib': 'grad', 'fixed_samples': 1000, 'method': 'cls', 'device': 'cuda:0', 'layer_ratio': 1.0, 'alpha': None, 'quantile': 0.1, 'p_value_threshold': 0.05, 'variance_conservation': True, 'exact_variance': True, 'gamma_infinity': True, 'success': True}\n",
      "['0', '1', '2', '3', '4', '5', '6', '7', '8', '9']\n",
      "{'encoder': 'resnet18', 'data_path': '/data/ImageNet1k', 'bbox_path': '/data/ILSVRC2012_bbox_val', 'input_attrib': 'grad', 'fixed_samples': 1000, 'method': 'cls', 'device': 'cuda:0', 'layer_ratio': 1.0, 'alpha': None, 'quantile': 0.1, 'p_value_threshold': 0.05, 'variance_conservation': False, 'exact_variance': True, 'gamma_infinity': True, 'success': True}\n",
      "['0', '1', '2', '3', '4', '5', '6', '7', '8', '9']\n",
      "2\n"
     ]
    }
   ],
   "source": [
    "f = f3\n",
    "# --------------------------------------------------\n",
    "base_dir = '../../outputs'\n",
    "import json \n",
    "import os \n",
    "import numpy as np \n",
    "from omegaconf import OmegaConf \n",
    "\n",
    "results_in_directories = []\n",
    "for root, dirs, files in os.walk(base_dir):\n",
    "    if 'config.yaml' in files:\n",
    "        flags = OmegaConf.load(os.path.join(root, 'config.yaml'))\n",
    "        if not f(flags):\n",
    "            continue\n",
    "        print(flags)\n",
    "        result = json.load(open(os.path.join(root, 'evaluation.json'), 'rb'))\n",
    "        results_in_directories.append([flags, result])\n",
    "        print(list(result.keys())[:10])\n",
    "print(len(results_in_directories))\n",
    "N_samples = 1000"
   ]
  },
  {
   "cell_type": "code",
   "execution_count": 3,
   "metadata": {},
   "outputs": [
    {
     "name": "stderr",
     "output_type": "stream",
     "text": [
      "  0%|          | 0/2 [00:00<?, ?it/s]"
     ]
    },
    {
     "name": "stdout",
     "output_type": "stream",
     "text": [
      "encoder_efficient_b0_layer_ratio_1.0_vc_True_cls_grad\n"
     ]
    },
    {
     "name": "stderr",
     "output_type": "stream",
     "text": [
      "100%|██████████| 2/2 [00:00<00:00, 13.49it/s]"
     ]
    },
    {
     "name": "stdout",
     "output_type": "stream",
     "text": [
      "encoder_efficient_b0_layer_ratio_1.0_vc_False_cls_grad\n"
     ]
    },
    {
     "name": "stderr",
     "output_type": "stream",
     "text": [
      "\n"
     ]
    }
   ],
   "source": [
    "from tqdm import tqdm \n",
    "def custom_flag_condition(flag):\n",
    "    name = f\"encoder_{flags.encoder}_layer_ratio_{flag.layer_ratio}_vc_{flag.variance_conservation}_{flags.method}_{flags.input_attrib}\"\n",
    "    condition = True \n",
    "    return name, condition \n",
    "\n",
    "condition_results = {}\n",
    "for flag, results in tqdm(results_in_directories): \n",
    "    name, condition = custom_flag_condition(flag)\n",
    "    if not condition :\n",
    "        continue\n",
    "    eval_results = {\n",
    "        'morf_aopc' : {},\n",
    "        'morf_lodds' :{},\n",
    "        'morf_fracdiff' : {},\n",
    "        'morf_acc' :{},\n",
    "        'lerf_aopc' :{},\n",
    "        'lerf_lodds' :{},\n",
    "        'lerf_fracdiff' :{},\n",
    "        'lerf_acc' :{},\n",
    "        'mu_in':[],\n",
    "        'mu_in_w':[],\n",
    "    }\n",
    "    assert name not in condition_results, f\"{name} is already in condition_results. {flag}\"\n",
    "    reduced_eval_results =  {k:{} for k in eval_results.keys()}\n",
    "\n",
    "    for idx in range(N_samples):\n",
    "        for k, v in results[str(idx)].items():\n",
    "            if k in ['morf', 'lerf']:\n",
    "                for metric, ratio_results in v.items():\n",
    "                    for ratio, value in ratio_results.items():\n",
    "                        if ratio not in eval_results[f'{k}_{metric}']:\n",
    "                            eval_results[f'{k}_{metric}'][float(ratio)] = []\n",
    "                            reduced_eval_results[f'{k}_{metric}'][float(ratio)] = 0\n",
    "                        eval_results[f'{k}_{metric}'][float(ratio)].append(float(value))\n",
    "            elif k in ['mu_in_w', 'mu_in']:\n",
    "                eval_results[k].append(float(v))\n",
    "                \n",
    "    for k, v in eval_results.items():\n",
    "        if k in ['mu_in', 'mu_in_w'] :\n",
    "            reduced_eval_results[f\"{k}_mean\"] = np.mean(v)\n",
    "        else:\n",
    "            for ratio, value in v.items():\n",
    "                reduced_eval_results[f\"{k}\"][ratio] = np.mean(value)\n",
    "            reduced_eval_results[f\"{k}_ratio_mean\"] = np.mean(list(reduced_eval_results[k].values()))\n",
    "    condition_results[f'{name}'] = reduced_eval_results\n",
    "    metric_names = [ k for k in  reduced_eval_results.keys() if 'mean' in k] \n",
    "    print(f'{name}')"
   ]
  },
  {
   "cell_type": "code",
   "execution_count": 7,
   "metadata": {},
   "outputs": [
    {
     "name": "stdout",
     "output_type": "stream",
     "text": [
      "| name  |morf_aopc | morf_lodds | morf_fracdiff | morf_acc | lerf_aopc | lerf_lodds | lerf_fracdiff | lerf_acc | mu_in | mu_in_w | \n",
      "|---| --- | --- | --- | --- | --- | --- | --- | --- | --- | --- | \n",
      "encoder_efficient_b0_layer_ratio_1.0_vc_True_cls_grad | 0.828 | -4.585 | 0.828 | 0.167 | 0.486 | -3.085 | 0.486 | 0.667 | 0.537 | 0.920 | \n",
      "encoder_efficient_b0_layer_ratio_1.0_vc_False_cls_grad | 0.830 | -5.821 | 0.830 | 0.167 | 0.398 | -1.264 | 0.398 | 0.667 | 0.528 | 0.905 | \n"
     ]
    }
   ],
   "source": [
    "import re \n",
    "print(\"| name \", end=\" |\")\n",
    "for k in metric_names:\n",
    "    sub_name = re.sub('_mean', \"\", k)\n",
    "    sub_name = re.sub('_ratio', \"\", sub_name)\n",
    "    print(sub_name, end= \" | \")\n",
    "    \n",
    "print()\n",
    "print(\"|---|\", end=\" \")\n",
    "for k in metric_names:\n",
    "    print(\"---\", end= \" | \")\n",
    "print()\n",
    "for name, reduced_eval_results in condition_results.items():\n",
    "    print(name, end=\" | \")\n",
    "    for k in metric_names:\n",
    "        print(f\"{reduced_eval_results[k]:.3f}\", end=\" | \")\n",
    "    print()"
   ]
  },
  {
   "cell_type": "code",
   "execution_count": null,
   "metadata": {},
   "outputs": [],
   "source": []
  },
  {
   "cell_type": "code",
   "execution_count": null,
   "metadata": {},
   "outputs": [],
   "source": []
  },
  {
   "cell_type": "code",
   "execution_count": null,
   "metadata": {},
   "outputs": [],
   "source": []
  },
  {
   "cell_type": "code",
   "execution_count": null,
   "metadata": {},
   "outputs": [],
   "source": []
  },
  {
   "cell_type": "code",
   "execution_count": null,
   "metadata": {},
   "outputs": [],
   "source": []
  },
  {
   "cell_type": "code",
   "execution_count": null,
   "metadata": {},
   "outputs": [],
   "source": []
  }
 ],
 "metadata": {
  "kernelspec": {
   "display_name": "rudiment",
   "language": "python",
   "name": "python3"
  },
  "language_info": {
   "codemirror_mode": {
    "name": "ipython",
    "version": 3
   },
   "file_extension": ".py",
   "mimetype": "text/x-python",
   "name": "python",
   "nbconvert_exporter": "python",
   "pygments_lexer": "ipython3",
   "version": "3.9.16"
  }
 },
 "nbformat": 4,
 "nbformat_minor": 2
}
