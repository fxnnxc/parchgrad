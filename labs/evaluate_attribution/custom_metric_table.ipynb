{
 "cells": [
  {
   "cell_type": "code",
   "execution_count": 3,
   "metadata": {},
   "outputs": [
    {
     "name": "stdout",
     "output_type": "stream",
     "text": [
      "{'encoder': 'resnet18', 'data_path': '/data/ImageNet1k', 'bbox_path': '/data/ILSVRC2012_bbox_val', 'input_attrib': 'ig', 'method': 'cls', 'device': 'cuda:0', 'layer_ratio': 0.5, 'alpha': None, 'quantile': 0.1, 'p_value_threshold': 0.05, 'variance_conservation': False, 'exact_variance': True, 'gamma_infinity': True, 'success': True}\n",
      "{'encoder': 'resnet18', 'data_path': '/data/ImageNet1k', 'bbox_path': '/data/ILSVRC2012_bbox_val', 'input_attrib': 'ig', 'method': 'cls', 'device': 'cuda:0', 'layer_ratio': 0.5, 'alpha': None, 'quantile': 0.1, 'p_value_threshold': 0.05, 'variance_conservation': True, 'exact_variance': True, 'gamma_infinity': True, 'success': True}\n",
      "2\n"
     ]
    }
   ],
   "source": [
    "def custom_filter(flag):\n",
    "    if not flag.success:\n",
    "        return False \n",
    "    elif flag.input_attrib not in [\"ig\"]:\n",
    "        return False \n",
    "    elif flag.layer_ratio not in [0.5]:\n",
    "        return False\n",
    "    elif flag.method not in [\"cls\"]:\n",
    "        return False \n",
    "    return True \n",
    "\n",
    "# --------------------------------------------------\n",
    "base_dir = '../../outputs'\n",
    "import json \n",
    "import os \n",
    "import numpy as np \n",
    "from omegaconf import OmegaConf \n",
    "\n",
    "results_in_directories = []\n",
    "for root, dirs, files in os.walk(base_dir):\n",
    "    if 'config.yaml' in files:\n",
    "        flags = OmegaConf.load(os.path.join(root, 'config.yaml'))\n",
    "        if not custom_filter(flags):\n",
    "            continue\n",
    "        print(flags)\n",
    "        result = json.load(open(os.path.join(root, 'evaluation.json'), 'rb'))\n",
    "        results_in_directories.append([flags, result])\n",
    "print(len(results_in_directories))\n",
    "N_samples = 50000"
   ]
  },
  {
   "cell_type": "code",
   "execution_count": 4,
   "metadata": {},
   "outputs": [
    {
     "name": "stderr",
     "output_type": "stream",
     "text": [
      " 50%|█████     | 1/2 [00:06<00:06,  6.17s/it]"
     ]
    },
    {
     "name": "stdout",
     "output_type": "stream",
     "text": [
      "quatile_1.0_variance_conservation_False\n"
     ]
    },
    {
     "name": "stderr",
     "output_type": "stream",
     "text": [
      "100%|██████████| 2/2 [00:12<00:00,  6.22s/it]"
     ]
    },
    {
     "name": "stdout",
     "output_type": "stream",
     "text": [
      "quatile_1.0_variance_conservation_True\n"
     ]
    },
    {
     "name": "stderr",
     "output_type": "stream",
     "text": [
      "\n"
     ]
    }
   ],
   "source": [
    "from tqdm import tqdm \n",
    "def custom_flag_condition(flag):\n",
    "    name = f\"quatile_{flags.quantile}_variance_conservation_{flag.variance_conservation}\"\n",
    "    condition = True \n",
    "    return name, condition \n",
    "\n",
    "condition_results = {}\n",
    "for flag, results in tqdm(results_in_directories): \n",
    "    name, condition = custom_flag_condition(flag)\n",
    "    if not condition :\n",
    "        continue\n",
    "    eval_results = {\n",
    "        'morf_aopc' : {},\n",
    "        'morf_lodds' :{},\n",
    "        'morf_fracdiff' : {},\n",
    "        'morf_acc' :{},\n",
    "        'lerf_aopc' :{},\n",
    "        'lerf_lodds' :{},\n",
    "        'lerf_fracdiff' :{},\n",
    "        'lerf_acc' :{},\n",
    "        'mu_in':[],\n",
    "        'mu_in_w':[],\n",
    "    }\n",
    "    assert name not in condition_results, f\"{name} is already in condition_results.\"\n",
    "    reduced_eval_results =  {k:{} for k in eval_results.keys()}\n",
    "\n",
    "    for idx in range(N_samples):\n",
    "        for k, v in results[str(idx)].items():\n",
    "            if k in ['morf', 'lerf']:\n",
    "                for metric, ratio_results in v.items():\n",
    "                    for ratio, value in ratio_results.items():\n",
    "                        if ratio not in eval_results[f'{k}_{metric}']:\n",
    "                            eval_results[f'{k}_{metric}'][float(ratio)] = []\n",
    "                            reduced_eval_results[f'{k}_{metric}'][float(ratio)] = 0\n",
    "                        eval_results[f'{k}_{metric}'][float(ratio)].append(float(value))\n",
    "            elif k in ['mu_in_w', 'mu_in']:\n",
    "                eval_results[k].append(float(v))\n",
    "                \n",
    "    for k, v in eval_results.items():\n",
    "        if k in ['mu_in', 'mu_in_w'] :\n",
    "            reduced_eval_results[f\"{k}_mean\"] = np.mean(v)\n",
    "        else:\n",
    "            for ratio, value in v.items():\n",
    "                reduced_eval_results[f\"{k}\"][ratio] = np.mean(value)\n",
    "            reduced_eval_results[f\"{k}_ratio_mean\"] = np.mean(list(reduced_eval_results[k].values()))\n",
    "    condition_results[f'{name}'] = reduced_eval_results\n",
    "    metric_names = [ k for k in  reduced_eval_results.keys() if 'mean' in k] \n",
    "    print(f'{name}')"
   ]
  },
  {
   "cell_type": "code",
   "execution_count": 5,
   "metadata": {},
   "outputs": [
    {
     "name": "stdout",
     "output_type": "stream",
     "text": [
      "morf_aopc | morf_lodds | morf_fracdiff | morf_acc | lerf_aopc | lerf_lodds | lerf_fracdiff | lerf_acc | mu_in | mu_in_w | \n",
      "| --- | --- | --- | --- | --- | --- | --- | --- | --- | --- | \n",
      "quatile_1.0_variance_conservation_False | 0.082 | -4.910 | 0.082 | 0.091 | 0.082 | -4.935 | 0.082 | 0.091 | 0.513 | 0.924 | \n",
      "quatile_1.0_variance_conservation_True | 0.081 | -4.382 | 0.081 | 0.091 | 0.081 | -4.383 | 0.081 | 0.091 | 0.518 | 0.935 | \n"
     ]
    }
   ],
   "source": [
    "import re \n",
    "for k in metric_names:\n",
    "    sub_name = re.sub('_mean', \"\", k)\n",
    "    sub_name = re.sub('_ratio', \"\", sub_name)\n",
    "    print(sub_name, end= \" | \")\n",
    "    \n",
    "print()\n",
    "print(\"|\", end=\" \")\n",
    "for k in metric_names:\n",
    "    print(\"---\", end= \" | \")\n",
    "print()\n",
    "for name, reduced_eval_results in condition_results.items():\n",
    "    print(name, end=\" | \")\n",
    "    for k in metric_names:\n",
    "        print(f\"{reduced_eval_results[k]:.3f}\", end=\" | \")\n",
    "    print()"
   ]
  },
  {
   "cell_type": "code",
   "execution_count": null,
   "metadata": {},
   "outputs": [],
   "source": []
  },
  {
   "cell_type": "code",
   "execution_count": null,
   "metadata": {},
   "outputs": [],
   "source": []
  },
  {
   "cell_type": "code",
   "execution_count": null,
   "metadata": {},
   "outputs": [],
   "source": []
  }
 ],
 "metadata": {
  "kernelspec": {
   "display_name": "rudiment",
   "language": "python",
   "name": "python3"
  },
  "language_info": {
   "codemirror_mode": {
    "name": "ipython",
    "version": 3
   },
   "file_extension": ".py",
   "mimetype": "text/x-python",
   "name": "python",
   "nbconvert_exporter": "python",
   "pygments_lexer": "ipython3",
   "version": "3.9.16"
  }
 },
 "nbformat": 4,
 "nbformat_minor": 2
}
