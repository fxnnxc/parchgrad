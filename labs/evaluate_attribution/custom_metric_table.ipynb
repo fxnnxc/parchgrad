{
 "cells": [
  {
   "cell_type": "code",
   "execution_count": 1,
   "metadata": {},
   "outputs": [],
   "source": [
    "from custom_filter import * "
   ]
  },
  {
   "cell_type": "code",
   "execution_count": 7,
   "metadata": {},
   "outputs": [
    {
     "name": "stdout",
     "output_type": "stream",
     "text": [
      "{'encoder': 'resnet18', 'data_path': '/data/ImageNet1k', 'bbox_path': '/data/ILSVRC2012_bbox_val', 'input_attrib': 'grad', 'method': 'cls', 'device': 'cuda:0', 'layer_ratio': 0.9, 'alpha': None, 'quantile': 0.1, 'p_value_threshold': 0.05, 'variance_conservation': False, 'exact_variance': True, 'gamma_infinity': True, 'success': True}\n",
      "[]\n",
      "1\n"
     ]
    }
   ],
   "source": [
    "f = f2\n",
    "# --------------------------------------------------\n",
    "base_dir = '../../outputs'\n",
    "import json \n",
    "import os \n",
    "import numpy as np \n",
    "from omegaconf import OmegaConf \n",
    "\n",
    "results_in_directories = []\n",
    "for root, dirs, files in os.walk(base_dir):\n",
    "    if 'config.yaml' in files:\n",
    "        flags = OmegaConf.load(os.path.join(root, 'config.yaml'))\n",
    "        if not f(flags):\n",
    "            continue\n",
    "        print(flags)\n",
    "        result = json.load(open(os.path.join(root, 'evaluation.json'), 'rb'))\n",
    "        results_in_directories.append([flags, result])\n",
    "        print(list(result.keys())[:10])\n",
    "print(len(results_in_directories))\n",
    "N_samples = 50000"
   ]
  },
  {
   "cell_type": "code",
   "execution_count": 5,
   "metadata": {},
   "outputs": [
    {
     "name": "stderr",
     "output_type": "stream",
     "text": [
      "  0%|          | 0/1 [00:00<?, ?it/s]\n"
     ]
    },
    {
     "ename": "KeyError",
     "evalue": "'0'",
     "output_type": "error",
     "traceback": [
      "\u001b[0;31m---------------------------------------------------------------------------\u001b[0m",
      "\u001b[0;31mKeyError\u001b[0m                                  Traceback (most recent call last)",
      "Cell \u001b[0;32mIn[5], line 28\u001b[0m\n\u001b[1;32m     25\u001b[0m reduced_eval_results \u001b[39m=\u001b[39m  {k:{} \u001b[39mfor\u001b[39;00m k \u001b[39min\u001b[39;00m eval_results\u001b[39m.\u001b[39mkeys()}\n\u001b[1;32m     27\u001b[0m \u001b[39mfor\u001b[39;00m idx \u001b[39min\u001b[39;00m \u001b[39mrange\u001b[39m(N_samples):\n\u001b[0;32m---> 28\u001b[0m     \u001b[39mfor\u001b[39;00m k, v \u001b[39min\u001b[39;00m results[\u001b[39mstr\u001b[39;49m(idx)]\u001b[39m.\u001b[39mitems():\n\u001b[1;32m     29\u001b[0m         \u001b[39mif\u001b[39;00m k \u001b[39min\u001b[39;00m [\u001b[39m'\u001b[39m\u001b[39mmorf\u001b[39m\u001b[39m'\u001b[39m, \u001b[39m'\u001b[39m\u001b[39mlerf\u001b[39m\u001b[39m'\u001b[39m]:\n\u001b[1;32m     30\u001b[0m             \u001b[39mfor\u001b[39;00m metric, ratio_results \u001b[39min\u001b[39;00m v\u001b[39m.\u001b[39mitems():\n",
      "\u001b[0;31mKeyError\u001b[0m: '0'"
     ]
    }
   ],
   "source": [
    "from tqdm import tqdm \n",
    "def custom_flag_condition(flag):\n",
    "    name = f\"layer_ratio_{flag.layer_ratio}_quatile_{flag.quantile}_variance_conservation_{flag.variance_conservation}\"\n",
    "    condition = True \n",
    "    return name, condition \n",
    "\n",
    "condition_results = {}\n",
    "for flag, results in tqdm(results_in_directories): \n",
    "    name, condition = custom_flag_condition(flag)\n",
    "    if not condition :\n",
    "        continue\n",
    "    eval_results = {\n",
    "        'morf_aopc' : {},\n",
    "        'morf_lodds' :{},\n",
    "        'morf_fracdiff' : {},\n",
    "        'morf_acc' :{},\n",
    "        'lerf_aopc' :{},\n",
    "        'lerf_lodds' :{},\n",
    "        'lerf_fracdiff' :{},\n",
    "        'lerf_acc' :{},\n",
    "        'mu_in':[],\n",
    "        'mu_in_w':[],\n",
    "    }\n",
    "    assert name not in condition_results, f\"{name} is already in condition_results.\"\n",
    "    reduced_eval_results =  {k:{} for k in eval_results.keys()}\n",
    "\n",
    "    for idx in range(N_samples):\n",
    "        for k, v in results[str(idx)].items():\n",
    "            if k in ['morf', 'lerf']:\n",
    "                for metric, ratio_results in v.items():\n",
    "                    for ratio, value in ratio_results.items():\n",
    "                        if ratio not in eval_results[f'{k}_{metric}']:\n",
    "                            eval_results[f'{k}_{metric}'][float(ratio)] = []\n",
    "                            reduced_eval_results[f'{k}_{metric}'][float(ratio)] = 0\n",
    "                        eval_results[f'{k}_{metric}'][float(ratio)].append(float(value))\n",
    "            elif k in ['mu_in_w', 'mu_in']:\n",
    "                eval_results[k].append(float(v))\n",
    "                \n",
    "    for k, v in eval_results.items():\n",
    "        if k in ['mu_in', 'mu_in_w'] :\n",
    "            reduced_eval_results[f\"{k}_mean\"] = np.mean(v)\n",
    "        else:\n",
    "            for ratio, value in v.items():\n",
    "                reduced_eval_results[f\"{k}\"][ratio] = np.mean(value)\n",
    "            reduced_eval_results[f\"{k}_ratio_mean\"] = np.mean(list(reduced_eval_results[k].values()))\n",
    "    condition_results[f'{name}'] = reduced_eval_results\n",
    "    metric_names = [ k for k in  reduced_eval_results.keys() if 'mean' in k] \n",
    "    print(f'{name}')"
   ]
  },
  {
   "cell_type": "code",
   "execution_count": null,
   "metadata": {},
   "outputs": [
    {
     "ename": "NameError",
     "evalue": "name 'metric_names' is not defined",
     "output_type": "error",
     "traceback": [
      "\u001b[0;31m---------------------------------------------------------------------------\u001b[0m",
      "\u001b[0;31mNameError\u001b[0m                                 Traceback (most recent call last)",
      "Cell \u001b[0;32mIn[5], line 2\u001b[0m\n\u001b[1;32m      1\u001b[0m \u001b[39mimport\u001b[39;00m \u001b[39mre\u001b[39;00m \n\u001b[0;32m----> 2\u001b[0m \u001b[39mfor\u001b[39;00m k \u001b[39min\u001b[39;00m metric_names:\n\u001b[1;32m      3\u001b[0m     sub_name \u001b[39m=\u001b[39m re\u001b[39m.\u001b[39msub(\u001b[39m'\u001b[39m\u001b[39m_mean\u001b[39m\u001b[39m'\u001b[39m, \u001b[39m\"\u001b[39m\u001b[39m\"\u001b[39m, k)\n\u001b[1;32m      4\u001b[0m     sub_name \u001b[39m=\u001b[39m re\u001b[39m.\u001b[39msub(\u001b[39m'\u001b[39m\u001b[39m_ratio\u001b[39m\u001b[39m'\u001b[39m, \u001b[39m\"\u001b[39m\u001b[39m\"\u001b[39m, sub_name)\n",
      "\u001b[0;31mNameError\u001b[0m: name 'metric_names' is not defined"
     ]
    }
   ],
   "source": [
    "import re \n",
    "for k in metric_names:\n",
    "    sub_name = re.sub('_mean', \"\", k)\n",
    "    sub_name = re.sub('_ratio', \"\", sub_name)\n",
    "    print(sub_name, end= \" | \")\n",
    "    \n",
    "print()\n",
    "print(\"|\", end=\" \")\n",
    "for k in metric_names:\n",
    "    print(\"---\", end= \" | \")\n",
    "print()\n",
    "for name, reduced_eval_results in condition_results.items():\n",
    "    print(name, end=\" | \")\n",
    "    for k in metric_names:\n",
    "        print(f\"{reduced_eval_results[k]:.3f}\", end=\" | \")\n",
    "    print()"
   ]
  },
  {
   "cell_type": "code",
   "execution_count": null,
   "metadata": {},
   "outputs": [],
   "source": []
  },
  {
   "cell_type": "code",
   "execution_count": null,
   "metadata": {},
   "outputs": [],
   "source": []
  },
  {
   "cell_type": "code",
   "execution_count": null,
   "metadata": {},
   "outputs": [],
   "source": []
  },
  {
   "cell_type": "code",
   "execution_count": null,
   "metadata": {},
   "outputs": [],
   "source": []
  },
  {
   "cell_type": "code",
   "execution_count": null,
   "metadata": {},
   "outputs": [],
   "source": []
  },
  {
   "cell_type": "code",
   "execution_count": null,
   "metadata": {},
   "outputs": [],
   "source": []
  }
 ],
 "metadata": {
  "kernelspec": {
   "display_name": "rudiment",
   "language": "python",
   "name": "python3"
  },
  "language_info": {
   "codemirror_mode": {
    "name": "ipython",
    "version": 3
   },
   "file_extension": ".py",
   "mimetype": "text/x-python",
   "name": "python",
   "nbconvert_exporter": "python",
   "pygments_lexer": "ipython3",
   "version": "3.9.16"
  }
 },
 "nbformat": 4,
 "nbformat_minor": 2
}
