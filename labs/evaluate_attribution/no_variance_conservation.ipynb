{
 "cells": [
  {
   "cell_type": "code",
   "execution_count": 13,
   "metadata": {},
   "outputs": [
    {
     "name": "stdout",
     "output_type": "stream",
     "text": [
      "{'encoder': 'resnet18', 'data_path': '/data/ImageNet1k', 'bbox_path': '/data/ILSVRC2012_bbox_val', 'input_attrib': 'grad', 'method': 'cls', 'device': 'cuda:0', 'layer_ratio': 0.5, 'alpha': None, 'quantile': 0.1, 'p_value_threshold': 0.05, 'variance_conservation': True, 'exact_variance': True, 'gamma_infinity': True, 'success': True}\n",
      "hi\n",
      "{'encoder': 'resnet18', 'data_path': '/data/ImageNet1k', 'bbox_path': '/data/ILSVRC2012_bbox_val', 'input_attrib': 'grad', 'method': 'cls', 'device': 'cuda:0', 'layer_ratio': 0.5, 'alpha': None, 'quantile': 0.1, 'p_value_threshold': 0.05, 'variance_conservation': False, 'exact_variance': True, 'gamma_infinity': True, 'success': True}\n",
      "hi\n"
     ]
    }
   ],
   "source": [
    "base_dir = '../../outputs/resnet18/cls/grad_0.5_0.1'\n",
    "import json \n",
    "import os \n",
    "from omegaconf import OmegaConf \n",
    "results = []\n",
    "for root, dirs, files in os.walk(base_dir):\n",
    "    if 'config.yaml' in files:\n",
    "        flags = OmegaConf.load(os.path.join(root, 'config.yaml'))\n",
    "        print(flags)\n",
    "        if flags.success:\n",
    "            result = json.load(open(os.path.join(root, 'evaluation.json'), 'rb'))\n",
    "            results.append([flags, result])"
   ]
  },
  {
   "cell_type": "code",
   "execution_count": 16,
   "metadata": {},
   "outputs": [
    {
     "data": {
      "text/plain": [
       "{'acc': {'0': 0,\n",
       "  '0.1': 0,\n",
       "  '0.2': 0,\n",
       "  '0.3': 0,\n",
       "  '0.4': 0,\n",
       "  '0.5': 0,\n",
       "  '0.6': 0,\n",
       "  '0.7': 0,\n",
       "  '0.8': 0,\n",
       "  '0.9': 0,\n",
       "  '1.0': 0},\n",
       " 'aopc': {'0': -1.7136335372924805e-06,\n",
       "  '0.1': 0.07715706527233124,\n",
       "  '0.2': 0.10510529577732086,\n",
       "  '0.3': 0.11973579972982407,\n",
       "  '0.4': 0.1252622902393341,\n",
       "  '0.5': 0.1282762587070465,\n",
       "  '0.6': 0.1352139264345169,\n",
       "  '0.7': 0.13768234848976135,\n",
       "  '0.8': 0.13724754750728607,\n",
       "  '0.9': 0.1380641758441925,\n",
       "  '1.0': 0.13803759217262268},\n",
       " 'fracdiff': {'0': 7.18235969543457e-06,\n",
       "  '0.1': 0.10036331415176392,\n",
       "  '0.2': 0.3007608652114868,\n",
       "  '0.3': 0.2897948920726776,\n",
       "  '0.4': 0.30099189281463623,\n",
       "  '0.5': 0.2655884027481079,\n",
       "  '0.6': 0.3194767236709595,\n",
       "  '0.7': 0.34160786867141724,\n",
       "  '0.8': 0.30626180768013,\n",
       "  '0.9': 0.35151877999305725,\n",
       "  '1.0': 0.35602253675460815},\n",
       " 'full_size': 50176,\n",
       " 'lodds': {'0': 1.2397689715726301e-05,\n",
       "  '0.1': -0.8155714273452759,\n",
       "  '0.2': -1.4254311323165894,\n",
       "  '0.3': -2.0049262046813965,\n",
       "  '0.4': -2.3567211627960205,\n",
       "  '0.5': -2.6180031299591064,\n",
       "  '0.6': -3.7805604934692383,\n",
       "  '0.7': -5.304190635681152,\n",
       "  '0.8': -4.814286231994629,\n",
       "  '0.9': -6.114235877990723,\n",
       "  '1.0': -6.030892372131348},\n",
       " 'mu_in': 0.43430575728416443,\n",
       " 'mu_in_w': 1.815069556236267,\n",
       " 'mu_out': 0.565694272518158,\n",
       " 'mu_out_w': 0.7436279058456421,\n",
       " 'r_in': 38.17217254638672,\n",
       " 'r_out': 49.72022247314453,\n",
       " 'size_in': 12006,\n",
       " 'size_out': 38170,\n",
       " 'valid': True}"
      ]
     },
     "execution_count": 16,
     "metadata": {},
     "output_type": "execute_result"
    }
   ],
   "source": [
    "\n",
    "eval_results = {\n",
    "    'aopc' :[],\n",
    "    'lodds' :[],\n",
    "    'frac_diff' :[],\n",
    "    'acc' :[],\n",
    "}\n",
    "results[0][1]['0']"
   ]
  },
  {
   "cell_type": "code",
   "execution_count": null,
   "metadata": {},
   "outputs": [],
   "source": []
  }
 ],
 "metadata": {
  "kernelspec": {
   "display_name": "rudiment",
   "language": "python",
   "name": "python3"
  },
  "language_info": {
   "codemirror_mode": {
    "name": "ipython",
    "version": 3
   },
   "file_extension": ".py",
   "mimetype": "text/x-python",
   "name": "python",
   "nbconvert_exporter": "python",
   "pygments_lexer": "ipython3",
   "version": "3.9.16"
  }
 },
 "nbformat": 4,
 "nbformat_minor": 2
}
